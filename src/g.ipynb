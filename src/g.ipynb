{
    "cells": [
        {
            "cell_type": "code",
            "execution_count": null,
            "metadata": {},
            "outputs": [],
            "source": [
                "def add(a, b):\n",
                "    \"\"\"\n",
                "    Add two numbers and return the result.\n",
                "    \"\"\"\n",
                "    return a + b\n"
            ]
        },
        {
            "cell_type": "code",
            "execution_count": null,
            "metadata": {},
            "outputs": [],
            "source": [
                "def subtract(a, b):\n",
                "    \"\"\"\n",
                "    Subtract the second number from the first and return the result.\n",
                "    \"\"\"\n",
                "    return a - b\n"
            ]
        },
        {
            "cell_type": "code",
            "execution_count": null,
            "metadata": {},
            "outputs": [],
            "source": [
                "def multiply(a, b):\n",
                "    \"\"\"\n",
                "    Multiply two numbers and return the result.\n",
                "    \"\"\"\n",
                "    return a * b\n"
            ]
        }
    ],
    "metadata": {
        "kernelspec": {
            "display_name": "Python 3",
            "language": "python",
            "name": "python3"
        },
        "language_info": {
            "codemirror_mode": {
                "name": "ipython",
                "version": 3
            },
            "file_extension": ".py",
            "mimetype": "text/x-python",
            "name": "python",
            "nbconvert_exporter": "python",
            "version": "3.x"
        }
    },
    "nbformat": 4,
    "nbformat_minor": 5
}