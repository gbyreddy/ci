{
 "cells": [
  {
   "cell_type": "code",
   "execution_count": null,
   "metadata": {},
   "source": [
    "def add(a, b): \n",
    "    \"\"\" \n",
    "    Add two numbers and return the result\n",
    "    \"\"\"\n",
    "    return a + b\n",
    "\n",
    "def subtract(a, b):\n",
    "    \"\"\"\n",
    "    Subtract the second number from the first and return the result.\n",
    "    \"\"\"\n",
    "    return a - b\n",
    "\n",
    "def multiply(a, b):\n",
    "    \"\"\"\n",
    "    Multiply two numbers and return the result.\n",
    "    \"\"\"\n",
    "    return a * b"
   ]
  },
  {
   "cell_type": "code",
   "execution_count": null,
   "metadata": {},
   "source": [
    "# Test the functions\n",
    "print(f\"Addition: 5 + 3 = {add(5, 3)}\")\n",
    "print(f\"Subtraction: 10 - 4 = {subtract(10, 4)}\")\n",
    "print(f\"Multiplication: 6 * 7 = {multiply(6, 7)}\")"
   ]
  }
 ],
 "metadata": {
  "kernelspec": {
   "display_name": "Python 3",
   "language": "python",
   "name": "python3"
  },
  "language_info": {
   "codemirror_mode": {
    "name": "ipython",
    "version": 3
   },
   "file_extension": ".py",
   "mimetype": "text/x-python",
   "name": "python",
   "nbconvert_exporter": "python",
   "pygments_lexer": "ipython3",
   "version": "3.8.5"
  }
 },
 "nbformat": 4,
 "nbformat_minor": 4
}
